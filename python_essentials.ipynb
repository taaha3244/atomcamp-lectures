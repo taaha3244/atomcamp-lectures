{
  "nbformat": 4,
  "nbformat_minor": 0,
  "metadata": {
    "colab": {
      "provenance": [],
      "authorship_tag": "ABX9TyM+M1z3mG7yU7M9lmF/+hJE",
      "include_colab_link": true
    },
    "kernelspec": {
      "name": "python3",
      "display_name": "Python 3"
    },
    "language_info": {
      "name": "python"
    }
  },
  "cells": [
    {
      "cell_type": "markdown",
      "metadata": {
        "id": "view-in-github",
        "colab_type": "text"
      },
      "source": [
        "<a href=\"https://colab.research.google.com/github/taaha3244/python-libraries/blob/main/python_essentials.ipynb\" target=\"_parent\"><img src=\"https://colab.research.google.com/assets/colab-badge.svg\" alt=\"Open In Colab\"/></a>"
      ]
    },
    {
      "cell_type": "code",
      "execution_count": 3,
      "metadata": {
        "colab": {
          "base_uri": "https://localhost:8080/"
        },
        "id": "9J_EwFdK0fER",
        "outputId": "dff54535-04d5-493f-ed87-0a31aefe9c54"
      },
      "outputs": [
        {
          "output_type": "stream",
          "name": "stdout",
          "text": [
            "x is less than y\n"
          ]
        }
      ],
      "source": [
        "x = 10\n",
        "y = 20\n",
        "\n",
        "if x < y:\n",
        "  print(\"x is less than y\")\n",
        "else:\n",
        "  print(\"y is less than x\")\n",
        "\n"
      ]
    },
    {
      "cell_type": "code",
      "source": [
        "for i in range(0,10,2):\n",
        "  print(i)"
      ],
      "metadata": {
        "colab": {
          "base_uri": "https://localhost:8080/"
        },
        "id": "lgZFhGUK4OZR",
        "outputId": "f296f567-48e6-4fd1-d626-a09aca5eec45"
      },
      "execution_count": 6,
      "outputs": [
        {
          "output_type": "stream",
          "name": "stdout",
          "text": [
            "0\n",
            "2\n",
            "4\n",
            "6\n",
            "8\n"
          ]
        }
      ]
    },
    {
      "cell_type": "code",
      "source": [
        "for value in range(1,10):\n",
        "  print(f\"index is none, value is {value * 5}\")"
      ],
      "metadata": {
        "colab": {
          "base_uri": "https://localhost:8080/"
        },
        "id": "h9abSyPy5oVG",
        "outputId": "387e5d73-6bda-421e-e8e6-69575bda7c93"
      },
      "execution_count": 15,
      "outputs": [
        {
          "output_type": "stream",
          "name": "stdout",
          "text": [
            "index is none, value is 5\n",
            "index is none, value is 10\n",
            "index is none, value is 15\n",
            "index is none, value is 20\n",
            "index is none, value is 25\n",
            "index is none, value is 30\n",
            "index is none, value is 35\n",
            "index is none, value is 40\n",
            "index is none, value is 45\n"
          ]
        }
      ]
    },
    {
      "cell_type": "code",
      "source": [
        "atom=7\n",
        "camp=8\n",
        "\n",
        "print(f\"The value of atom is : {atom}\")"
      ],
      "metadata": {
        "colab": {
          "base_uri": "https://localhost:8080/"
        },
        "id": "1wj7sUmc6oS0",
        "outputId": "431fde9c-bc55-42ea-c77d-dfa6bde6a484"
      },
      "execution_count": 8,
      "outputs": [
        {
          "output_type": "stream",
          "name": "stdout",
          "text": [
            "The value of atom is : 7\n"
          ]
        }
      ]
    },
    {
      "cell_type": "code",
      "source": [
        "val = 'Geeks'\n",
        "print(f\"{val}for{val} is a portal for {val}.\")"
      ],
      "metadata": {
        "colab": {
          "base_uri": "https://localhost:8080/"
        },
        "id": "Dxw8VVtV787G",
        "outputId": "7e3c134c-898a-47d7-a3fb-aed7cf13ec85"
      },
      "execution_count": 9,
      "outputs": [
        {
          "output_type": "stream",
          "name": "stdout",
          "text": [
            "GeeksforGeeks is a portal for Geeks.\n"
          ]
        }
      ]
    },
    {
      "cell_type": "code",
      "source": [
        "i=1\n",
        "while i < 6 :\n",
        "  print(i)\n",
        "  if i==3:\n",
        "      continue\n",
        "  i +=1"
      ],
      "metadata": {
        "id": "G61B41BP-_zl"
      },
      "execution_count": null,
      "outputs": []
    },
    {
      "cell_type": "code",
      "source": [
        "a while loop that sums 0 to 10"
      ],
      "metadata": {
        "id": "oioKss4zCEA5"
      },
      "execution_count": null,
      "outputs": []
    },
    {
      "cell_type": "code",
      "source": [
        "i = 1\n",
        "sum = 0\n",
        "while i < 11:\n",
        "  sum +=i\n",
        "\n",
        "  i+= 1\n",
        "print(sum)"
      ],
      "metadata": {
        "colab": {
          "base_uri": "https://localhost:8080/"
        },
        "id": "OMmh-a8OCifz",
        "outputId": "fda2d3fc-f05f-467f-ded8-8b882f513196"
      },
      "execution_count": 25,
      "outputs": [
        {
          "output_type": "stream",
          "name": "stdout",
          "text": [
            "55\n"
          ]
        }
      ]
    },
    {
      "cell_type": "code",
      "source": [
        "def add_numbers(a, b=5):\n",
        "  return a + b"
      ],
      "metadata": {
        "id": "gIONIWYCDc3t"
      },
      "execution_count": 26,
      "outputs": []
    },
    {
      "cell_type": "code",
      "source": [
        "print(add_numbers(3,3))"
      ],
      "metadata": {
        "colab": {
          "base_uri": "https://localhost:8080/"
        },
        "id": "342GqXruDqX3",
        "outputId": "a80e83e7-e911-4bf1-cbd4-d120b720831e"
      },
      "execution_count": 28,
      "outputs": [
        {
          "output_type": "stream",
          "name": "stdout",
          "text": [
            "6\n"
          ]
        }
      ]
    },
    {
      "cell_type": "code",
      "source": [
        "fruits=['apple','banana','cherry']\n",
        "for fruit in fruits:\n",
        "  if fruit=='banana':\n",
        "    continue\n",
        "  print(fruit)"
      ],
      "metadata": {
        "colab": {
          "base_uri": "https://localhost:8080/"
        },
        "id": "aWdpWrWxD_FO",
        "outputId": "30b6b6a3-1210-4a31-85e3-d7c5f6fc0625"
      },
      "execution_count": 29,
      "outputs": [
        {
          "output_type": "stream",
          "name": "stdout",
          "text": [
            "apple\n",
            "cherry\n"
          ]
        }
      ]
    },
    {
      "cell_type": "code",
      "source": [
        "for i in range(1,4):\n",
        "  for j in range(i):\n",
        "    print(i,end='')\n",
        "  print()"
      ],
      "metadata": {
        "colab": {
          "base_uri": "https://localhost:8080/"
        },
        "id": "oVZZTebHFWdI",
        "outputId": "c76545ff-3c25-4165-8f7b-c0f5fc9e50cc"
      },
      "execution_count": 31,
      "outputs": [
        {
          "output_type": "stream",
          "name": "stdout",
          "text": [
            "1\n",
            "22\n",
            "333\n"
          ]
        }
      ]
    },
    {
      "cell_type": "code",
      "source": [
        "for num in range(10):\n",
        "  if num == 7:\n",
        "    continue\n",
        "  print(num)"
      ],
      "metadata": {
        "colab": {
          "base_uri": "https://localhost:8080/"
        },
        "id": "VYTR-a7cIUvz",
        "outputId": "8e2b872c-e082-43ea-c95f-ba3958addf90"
      },
      "execution_count": 33,
      "outputs": [
        {
          "output_type": "stream",
          "name": "stdout",
          "text": [
            "0\n",
            "1\n",
            "2\n",
            "3\n",
            "4\n",
            "5\n",
            "6\n",
            "8\n",
            "9\n"
          ]
        }
      ]
    },
    {
      "cell_type": "code",
      "source": [
        "for outer in range(3):\n",
        "  for inner in range(100,105):\n",
        "    print(outer,inner)"
      ],
      "metadata": {
        "colab": {
          "base_uri": "https://localhost:8080/"
        },
        "id": "fbIVqSdlI3f9",
        "outputId": "0733de26-c08f-4ebb-f3f2-8fa3d75c2f8e"
      },
      "execution_count": 35,
      "outputs": [
        {
          "output_type": "stream",
          "name": "stdout",
          "text": [
            "0 100\n",
            "0 101\n",
            "0 102\n",
            "0 103\n",
            "0 104\n",
            "1 100\n",
            "1 101\n",
            "1 102\n",
            "1 103\n",
            "1 104\n",
            "2 100\n",
            "2 101\n",
            "2 102\n",
            "2 103\n",
            "2 104\n"
          ]
        }
      ]
    },
    {
      "cell_type": "code",
      "source": [
        "alpha='i love pakistan'"
      ],
      "metadata": {
        "id": "o7zXDnPyJlID"
      },
      "execution_count": 59,
      "outputs": []
    },
    {
      "cell_type": "code",
      "source": [
        "alpha[::-1]"
      ],
      "metadata": {
        "colab": {
          "base_uri": "https://localhost:8080/",
          "height": 35
        },
        "id": "ZwMo1M29KCBM",
        "outputId": "e51db21d-bcb4-4940-c9b8-ab1c6bfc8bcc"
      },
      "execution_count": 60,
      "outputs": [
        {
          "output_type": "execute_result",
          "data": {
            "text/plain": [
              "'natsikap evol i'"
            ],
            "application/vnd.google.colaboratory.intrinsic+json": {
              "type": "string"
            }
          },
          "metadata": {},
          "execution_count": 60
        }
      ]
    },
    {
      "cell_type": "code",
      "source": [
        "def is_palindrome(word):\n",
        "  return word == word[::-1]"
      ],
      "metadata": {
        "id": "B_ysc1QBJ404"
      },
      "execution_count": 45,
      "outputs": []
    },
    {
      "cell_type": "code",
      "source": [
        "is_palindrome('i love pakistan')"
      ],
      "metadata": {
        "colab": {
          "base_uri": "https://localhost:8080/"
        },
        "id": "PGKBazVqKzzv",
        "outputId": "3e29c902-8b8c-4c41-c393-cf888c55e455"
      },
      "execution_count": 57,
      "outputs": [
        {
          "output_type": "execute_result",
          "data": {
            "text/plain": [
              "False"
            ]
          },
          "metadata": {},
          "execution_count": 57
        }
      ]
    },
    {
      "cell_type": "markdown",
      "source": [
        "Question At a carnival, people are charged entry based on their age as follows:\n",
        "\n",
        "Children under 4 years old enter for free.\n",
        "\n",
        "Children aged 4 to 12 years are charged $10.\n",
        "\n",
        "Teenagers and adults from 13 to 64 years old are charged $20.\n",
        "\n",
        "Seniors aged 65 and above are charged $15."
      ],
      "metadata": {
        "id": "t8ZPp6G6MOSe"
      }
    },
    {
      "cell_type": "code",
      "source": [
        "age=int(input(\"enter your age\"))\n",
        "if age<10:\n",
        "  print('less than 10')\n",
        "elif age<15:\n",
        "  print('less than 15')\n",
        "elif age<20:\n",
        "  print('less than 20')\n",
        "else:\n",
        "  print('Greater than 20')"
      ],
      "metadata": {
        "colab": {
          "base_uri": "https://localhost:8080/"
        },
        "id": "q6NpMimSNZXd",
        "outputId": "369e4b8c-6ae6-41b6-d57b-6adf20a054ae"
      },
      "execution_count": 81,
      "outputs": [
        {
          "output_type": "stream",
          "name": "stdout",
          "text": [
            "enter your age17\n",
            "less than 20\n"
          ]
        }
      ]
    },
    {
      "cell_type": "code",
      "source": [
        "beta='i love pakistan'"
      ],
      "metadata": {
        "id": "wmH2PkOVNkfl"
      },
      "execution_count": 68,
      "outputs": []
    },
    {
      "cell_type": "code",
      "source": [
        "words=beta.split()\n",
        "words"
      ],
      "metadata": {
        "colab": {
          "base_uri": "https://localhost:8080/"
        },
        "id": "fLClykFCNl4o",
        "outputId": "74cdcd50-6038-4b5f-caf0-aa1b962e8f25"
      },
      "execution_count": 69,
      "outputs": [
        {
          "output_type": "execute_result",
          "data": {
            "text/plain": [
              "['i', 'love', 'pakistan']"
            ]
          },
          "metadata": {},
          "execution_count": 69
        }
      ]
    },
    {
      "cell_type": "code",
      "source": [],
      "metadata": {
        "colab": {
          "base_uri": "https://localhost:8080/",
          "height": 158
        },
        "id": "rlGYiWf9Nx2w",
        "outputId": "32a9a6c9-7391-48b5-c115-b8fa4fabbd98"
      },
      "execution_count": 66,
      "outputs": [
        {
          "output_type": "error",
          "ename": "AttributeError",
          "evalue": "'NoneType' object has no attribute 'reverse'",
          "traceback": [
            "\u001b[0;31m---------------------------------------------------------------------------\u001b[0m",
            "\u001b[0;31mAttributeError\u001b[0m                            Traceback (most recent call last)",
            "\u001b[0;32m<ipython-input-66-4cd34f25f741>\u001b[0m in \u001b[0;36m<cell line: 1>\u001b[0;34m()\u001b[0m\n\u001b[0;32m----> 1\u001b[0;31m \u001b[0mwords\u001b[0m\u001b[0;34m=\u001b[0m\u001b[0mwords\u001b[0m\u001b[0;34m.\u001b[0m\u001b[0mreverse\u001b[0m\u001b[0;34m(\u001b[0m\u001b[0;34m)\u001b[0m\u001b[0;34m\u001b[0m\u001b[0;34m\u001b[0m\u001b[0m\n\u001b[0m\u001b[1;32m      2\u001b[0m \u001b[0mwords\u001b[0m\u001b[0;34m\u001b[0m\u001b[0;34m\u001b[0m\u001b[0m\n",
            "\u001b[0;31mAttributeError\u001b[0m: 'NoneType' object has no attribute 'reverse'"
          ]
        }
      ]
    },
    {
      "cell_type": "code",
      "source": [
        "def reverse_sentence(sentence):\n",
        "  words = sentence.split()  # Split the sentence into words\n",
        "\n",
        "  if len(words) > 1 and words[0] == \"I\":  # Check for \"I\" at the beginning\n",
        "    return \" \".join([words[-1]] + words[1:-1] + [words[0]])  # Preserve \"I\"\n",
        "  else:\n",
        "    return \" \".join(words[::-1])  # Reverse all words otherwise"
      ],
      "metadata": {
        "id": "yP5hfanvN4UE"
      },
      "execution_count": 71,
      "outputs": []
    },
    {
      "cell_type": "code",
      "source": [
        "reverse_sentence('I love pakistan')"
      ],
      "metadata": {
        "colab": {
          "base_uri": "https://localhost:8080/",
          "height": 35
        },
        "id": "y0auFE73OnLD",
        "outputId": "55e99692-4faf-4100-fc37-bfe27c2fb473"
      },
      "execution_count": 72,
      "outputs": [
        {
          "output_type": "execute_result",
          "data": {
            "text/plain": [
              "'pakistan love I'"
            ],
            "application/vnd.google.colaboratory.intrinsic+json": {
              "type": "string"
            }
          },
          "metadata": {},
          "execution_count": 72
        }
      ]
    },
    {
      "cell_type": "code",
      "source": [
        "def reverse(string):\n",
        "  words=string.split()\n",
        "  words.reverse()\n",
        "  reversed_string=' '.join(words)\n",
        "  return reversed_string"
      ],
      "metadata": {
        "id": "s2wik_qJOwNh"
      },
      "execution_count": 73,
      "outputs": []
    },
    {
      "cell_type": "code",
      "source": [
        "reverse('We love Pakistan')"
      ],
      "metadata": {
        "colab": {
          "base_uri": "https://localhost:8080/",
          "height": 35
        },
        "id": "sFKlLtg3PAOp",
        "outputId": "efb03df7-e330-426c-a5b1-8d93b9829f33"
      },
      "execution_count": 74,
      "outputs": [
        {
          "output_type": "execute_result",
          "data": {
            "text/plain": [
              "'Pakistan love We'"
            ],
            "application/vnd.google.colaboratory.intrinsic+json": {
              "type": "string"
            }
          },
          "metadata": {},
          "execution_count": 74
        }
      ]
    },
    {
      "cell_type": "code",
      "source": [
        "age = int(input(\"Enter your age: \"))\n",
        "if age >= 4 and age <= 12:\n",
        "  print(\"Pay $10\")\n",
        "elif age > 12 and age <= 50:\n",
        "  print(\"Pay $25\")\n",
        "else:\n",
        "  print(\"No entry fee\")"
      ],
      "metadata": {
        "colab": {
          "base_uri": "https://localhost:8080/"
        },
        "id": "9Dcloa2lPegJ",
        "outputId": "efc4770e-b984-436d-f9c7-47e9ea672f9d"
      },
      "execution_count": 75,
      "outputs": [
        {
          "output_type": "stream",
          "name": "stdout",
          "text": [
            "Enter your age: 44\n",
            "Pay $25\n"
          ]
        }
      ]
    }
  ]
}