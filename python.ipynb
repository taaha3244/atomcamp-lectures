{
  "nbformat": 4,
  "nbformat_minor": 0,
  "metadata": {
    "colab": {
      "provenance": [],
      "authorship_tag": "ABX9TyMlC70WbwGTk/hhMemhoELH",
      "include_colab_link": true
    },
    "kernelspec": {
      "name": "python3",
      "display_name": "Python 3"
    },
    "language_info": {
      "name": "python"
    }
  },
  "cells": [
    {
      "cell_type": "markdown",
      "metadata": {
        "id": "view-in-github",
        "colab_type": "text"
      },
      "source": [
        "<a href=\"https://colab.research.google.com/github/taaha3244/python-libraries/blob/main/python.ipynb\" target=\"_parent\"><img src=\"https://colab.research.google.com/assets/colab-badge.svg\" alt=\"Open In Colab\"/></a>"
      ]
    },
    {
      "cell_type": "markdown",
      "source": [
        "What will the following code output and why?"
      ],
      "metadata": {
        "id": "XLmjp5TsHoPI"
      }
    },
    {
      "cell_type": "code",
      "execution_count": null,
      "metadata": {
        "id": "Mv-2VWOOHHxt"
      },
      "outputs": [],
      "source": [
        "x = 10\n",
        "y = 20\n",
        "if x < y:\n",
        "    print(\"x is less than y\")\n",
        "else:\n",
        "    print(\"x is greater than or equal to y\")\n"
      ]
    },
    {
      "cell_type": "markdown",
      "source": [
        "2. What does the following code do?"
      ],
      "metadata": {
        "id": "ogdQPdXQHzos"
      }
    },
    {
      "cell_type": "code",
      "source": [
        "for i in range(3, 8):\n",
        "    print(i)\n"
      ],
      "metadata": {
        "id": "2gHTUZZtHzK9"
      },
      "execution_count": null,
      "outputs": []
    },
    {
      "cell_type": "code",
      "source": [
        "for i , value in enumerate(range(9)):\n",
        "    print(f\"index is {i} value is: {value*5}\")"
      ],
      "metadata": {
        "id": "DoZB5II4p4ki"
      },
      "execution_count": null,
      "outputs": []
    },
    {
      "cell_type": "markdown",
      "source": [
        "3. Identify the error in the following code:"
      ],
      "metadata": {
        "id": "Tv4bjP_kIKJN"
      }
    },
    {
      "cell_type": "code",
      "source": [
        "i = 1\n",
        "while i < 6:\n",
        "    print(i)\n",
        "    if i == 3:\n",
        "        break\n"
      ],
      "metadata": {
        "id": "F-LpJ5deIKsV"
      },
      "execution_count": null,
      "outputs": []
    },
    {
      "cell_type": "code",
      "source": [
        "i = 1\n",
        "while i < 6:\n",
        "    print(i)\n",
        "    if i == 3:\n",
        "        break\n",
        "    i += 1\n"
      ],
      "metadata": {
        "id": "e77ZD35EIUr9"
      },
      "execution_count": null,
      "outputs": []
    },
    {
      "cell_type": "markdown",
      "source": [
        "4. Write a Python script using a while loop that sums all numbers from 1 to 10."
      ],
      "metadata": {
        "id": "chO1MhnoIbA-"
      }
    },
    {
      "cell_type": "code",
      "source": [
        "total = 0\n",
        "i = 1\n",
        "while i <= 10:\n",
        "    total += i\n",
        "    i += 1\n",
        "print(total)\n"
      ],
      "metadata": {
        "id": "TPjL940aIb3O"
      },
      "execution_count": null,
      "outputs": []
    },
    {
      "cell_type": "markdown",
      "source": [
        "5. Predict the output of the following function calls if the function add_numbers is defined as below:"
      ],
      "metadata": {
        "id": "0246RYqPIiCu"
      }
    },
    {
      "cell_type": "code",
      "source": [
        "def add_numbers(a, b=5):\n",
        "    return a + b\n",
        "print(add_numbers(3))\n",
        "print(add_numbers(3, 3))\n"
      ],
      "metadata": {
        "id": "w0WxSetjIjlZ"
      },
      "execution_count": null,
      "outputs": []
    },
    {
      "cell_type": "markdown",
      "source": [
        "6. What will be the output of this code and why?"
      ],
      "metadata": {
        "id": "b223EKcBIr2a"
      }
    },
    {
      "cell_type": "code",
      "source": [
        "fruits = ['apple', 'banana', 'cherry']\n",
        "for fruit in fruits:\n",
        "    if fruit == 'banana':\n",
        "        continue\n",
        "    print(fruit)\n"
      ],
      "metadata": {
        "id": "Wh_AVUJHIvGb"
      },
      "execution_count": null,
      "outputs": []
    },
    {
      "cell_type": "markdown",
      "source": [
        "7. Correct and optimize the following code that is intended to print \"Even\" if all numbers in the list are even:"
      ],
      "metadata": {
        "id": "uoJ1_9ceItxa"
      }
    },
    {
      "cell_type": "code",
      "source": [
        "numbers = [2, 4, 6, 8, 10]\n",
        "all_even = True\n",
        "for number in numbers:\n",
        "    if number % 2 != 0:\n",
        "        all_even = False\n",
        "if all_even:\n",
        "    print(\"Even\")\n",
        "else:\n",
        "  print('Some are Odd')"
      ],
      "metadata": {
        "colab": {
          "base_uri": "https://localhost:8080/"
        },
        "id": "LqR2s79mIyDi",
        "outputId": "ac507a00-c7af-40c5-d019-f293823ed008"
      },
      "execution_count": 16,
      "outputs": [
        {
          "output_type": "stream",
          "name": "stdout",
          "text": [
            "Even\n"
          ]
        }
      ]
    },
    {
      "cell_type": "markdown",
      "source": [
        "8. What does the following code do?\n",
        "\n",
        "Answer: This code defines a function multiply that takes two arguments and returns their product. It then calls this function with arguments 2 and 3, storing the result in z and printing it, which will be 6."
      ],
      "metadata": {
        "id": "dxmYmGuqJV8P"
      }
    },
    {
      "cell_type": "code",
      "source": [
        "def multiply(x, y):\n",
        "    return x * y\n",
        "z = multiply(2, 3)\n",
        "print(z)\n"
      ],
      "metadata": {
        "id": "QWLzCUV3JWxO"
      },
      "execution_count": null,
      "outputs": []
    },
    {
      "cell_type": "markdown",
      "source": [
        "9. Using a lambda function, write a one-liner to square a number. Call this lambda with the number 8 and print the result."
      ],
      "metadata": {
        "id": "9LrocDBpJpCg"
      }
    },
    {
      "cell_type": "code",
      "source": [
        "square = lambda x: x ** 2\n",
        "print(square(8))\n"
      ],
      "metadata": {
        "id": "2gHCwcSrJpmn"
      },
      "execution_count": null,
      "outputs": []
    },
    {
      "cell_type": "markdown",
      "source": [
        "10. Explain and predict the output of the following nested loop code:"
      ],
      "metadata": {
        "id": "FYoGbJGSJtec"
      }
    },
    {
      "cell_type": "code",
      "source": [
        "for i in range(1, 4):\n",
        "    for j in range(i):\n",
        "        print(i)\n",
        "    print()\n"
      ],
      "metadata": {
        "colab": {
          "base_uri": "https://localhost:8080/"
        },
        "id": "t_-PFUvmJvRD",
        "outputId": "994f38cf-8b2c-498c-ea7d-452c0c3a2efa"
      },
      "execution_count": 18,
      "outputs": [
        {
          "output_type": "stream",
          "name": "stdout",
          "text": [
            "1\n",
            "\n",
            "2\n",
            "2\n",
            "\n",
            "3\n",
            "3\n",
            "3\n",
            "\n"
          ]
        }
      ]
    },
    {
      "cell_type": "markdown",
      "source": [
        "Explain the use of the while loop in the following code and predict the output:\n",
        "Answer: This code uses a while loop to print numbers from 0 to 4. The else block is executed after the loop finishes, printing \"Done\". The output will be:"
      ],
      "metadata": {
        "id": "PV5WkHXMMWBS"
      }
    },
    {
      "cell_type": "code",
      "source": [
        "count = 0\n",
        "while count < 5:\n",
        "    print(count)\n",
        "    count += 1\n",
        "else:\n",
        "    print(\"Done\")\n"
      ],
      "metadata": {
        "id": "b67dMAZSMW0h"
      },
      "execution_count": null,
      "outputs": []
    },
    {
      "cell_type": "markdown",
      "source": [
        "12. What does the break statement do in the following code snippet?\n",
        "\n",
        "Answer: The break statement terminates the loop when num equals 7. Numbers from 0 to 6 will be printed."
      ],
      "metadata": {
        "id": "FwVQFeFzMfJB"
      }
    },
    {
      "cell_type": "code",
      "source": [
        "for num in range(10):\n",
        "    if num == 7:\n",
        "        break\n",
        "    print(num)\n"
      ],
      "metadata": {
        "id": "Aa1EzapZMjAM"
      },
      "execution_count": null,
      "outputs": []
    },
    {
      "cell_type": "markdown",
      "source": [
        "13. Using a continue statement, write a loop that prints all numbers from 1 to 10 except for 5."
      ],
      "metadata": {
        "id": "88ZCKdz6Mnnk"
      }
    },
    {
      "cell_type": "code",
      "source": [
        "for i in range(1, 11):\n",
        "    if i == 5:\n",
        "        continue\n",
        "    print(i)\n"
      ],
      "metadata": {
        "id": "KLHCWzGnMsBU"
      },
      "execution_count": null,
      "outputs": []
    },
    {
      "cell_type": "markdown",
      "source": [
        "14. Describe and predict the output for this nested loop code:"
      ],
      "metadata": {
        "id": "_0cLOO05M0Ji"
      }
    },
    {
      "cell_type": "code",
      "source": [
        "for outer in range(3):\n",
        "    for inner in range(100, 103):\n",
        "        print(outer, inner)\n"
      ],
      "metadata": {
        "colab": {
          "base_uri": "https://localhost:8080/"
        },
        "id": "6reP9r6SM2bL",
        "outputId": "47b2e42b-253b-45aa-9769-2f01b8d8f0c3"
      },
      "execution_count": 2,
      "outputs": [
        {
          "output_type": "stream",
          "name": "stdout",
          "text": [
            "0 100\n",
            "0 101\n",
            "0 102\n",
            "1 100\n",
            "1 101\n",
            "1 102\n",
            "2 100\n",
            "2 101\n",
            "2 102\n"
          ]
        }
      ]
    },
    {
      "cell_type": "markdown",
      "source": [
        "15. Write a function that checks if a given word is a palindrome. Use this function to check the word \"radar\"."
      ],
      "metadata": {
        "id": "bwP5-2J2NLCv"
      }
    },
    {
      "cell_type": "code",
      "source": [
        "def is_palindrome(word):\n",
        "    return word == word[::-1]\n",
        "print(is_palindrome(\"radar\"))\n"
      ],
      "metadata": {
        "colab": {
          "base_uri": "https://localhost:8080/"
        },
        "id": "TAWWfnGyNLxf",
        "outputId": "e86c96be-e7d6-4d31-fda0-b331f12323e1"
      },
      "execution_count": 3,
      "outputs": [
        {
          "output_type": "stream",
          "name": "stdout",
          "text": [
            "True\n"
          ]
        }
      ]
    },
    {
      "cell_type": "markdown",
      "source": [
        "16. Using a while loop, create a program that sums all numbers entered by the user until they enter 'stop'."
      ],
      "metadata": {
        "id": "4Y0vpKO-PlKY"
      }
    },
    {
      "cell_type": "code",
      "source": [
        "total = 0\n",
        "while True:\n",
        "    s = input(\"Enter a number or 'stop' to finish: \")\n",
        "    if s == 'stop':\n",
        "        break\n",
        "    total += int(s)\n",
        "print(\"Total sum:\", total)\n"
      ],
      "metadata": {
        "colab": {
          "base_uri": "https://localhost:8080/",
          "height": 390
        },
        "id": "4cr3p3TmPnQA",
        "outputId": "2ac2f310-fb10-4f65-8ef3-f9d3da8ca5ed"
      },
      "execution_count": 7,
      "outputs": [
        {
          "output_type": "error",
          "ename": "KeyboardInterrupt",
          "evalue": "Interrupted by user",
          "traceback": [
            "\u001b[0;31m---------------------------------------------------------------------------\u001b[0m",
            "\u001b[0;31mKeyboardInterrupt\u001b[0m                         Traceback (most recent call last)",
            "\u001b[0;32m<ipython-input-7-48b84d8ad7e9>\u001b[0m in \u001b[0;36m<cell line: 2>\u001b[0;34m()\u001b[0m\n\u001b[1;32m      1\u001b[0m \u001b[0mtotal\u001b[0m \u001b[0;34m=\u001b[0m \u001b[0;36m0\u001b[0m\u001b[0;34m\u001b[0m\u001b[0;34m\u001b[0m\u001b[0m\n\u001b[1;32m      2\u001b[0m \u001b[0;32mwhile\u001b[0m \u001b[0;32mTrue\u001b[0m\u001b[0;34m:\u001b[0m\u001b[0;34m\u001b[0m\u001b[0;34m\u001b[0m\u001b[0m\n\u001b[0;32m----> 3\u001b[0;31m     \u001b[0ms\u001b[0m \u001b[0;34m=\u001b[0m \u001b[0minput\u001b[0m\u001b[0;34m(\u001b[0m\u001b[0;34m\"Enter a number or 'stop' to finish: \"\u001b[0m\u001b[0;34m)\u001b[0m\u001b[0;34m\u001b[0m\u001b[0;34m\u001b[0m\u001b[0m\n\u001b[0m\u001b[1;32m      4\u001b[0m     \u001b[0;32mif\u001b[0m \u001b[0ms\u001b[0m \u001b[0;34m==\u001b[0m \u001b[0;34m'stop'\u001b[0m\u001b[0;34m:\u001b[0m\u001b[0;34m\u001b[0m\u001b[0;34m\u001b[0m\u001b[0m\n\u001b[1;32m      5\u001b[0m         \u001b[0;32mbreak\u001b[0m\u001b[0;34m\u001b[0m\u001b[0;34m\u001b[0m\u001b[0m\n",
            "\u001b[0;32m/usr/local/lib/python3.10/dist-packages/ipykernel/kernelbase.py\u001b[0m in \u001b[0;36mraw_input\u001b[0;34m(self, prompt)\u001b[0m\n\u001b[1;32m    849\u001b[0m                 \u001b[0;34m\"raw_input was called, but this frontend does not support input requests.\"\u001b[0m\u001b[0;34m\u001b[0m\u001b[0;34m\u001b[0m\u001b[0m\n\u001b[1;32m    850\u001b[0m             )\n\u001b[0;32m--> 851\u001b[0;31m         return self._input_request(str(prompt),\n\u001b[0m\u001b[1;32m    852\u001b[0m             \u001b[0mself\u001b[0m\u001b[0;34m.\u001b[0m\u001b[0m_parent_ident\u001b[0m\u001b[0;34m,\u001b[0m\u001b[0;34m\u001b[0m\u001b[0;34m\u001b[0m\u001b[0m\n\u001b[1;32m    853\u001b[0m             \u001b[0mself\u001b[0m\u001b[0;34m.\u001b[0m\u001b[0m_parent_header\u001b[0m\u001b[0;34m,\u001b[0m\u001b[0;34m\u001b[0m\u001b[0;34m\u001b[0m\u001b[0m\n",
            "\u001b[0;32m/usr/local/lib/python3.10/dist-packages/ipykernel/kernelbase.py\u001b[0m in \u001b[0;36m_input_request\u001b[0;34m(self, prompt, ident, parent, password)\u001b[0m\n\u001b[1;32m    893\u001b[0m             \u001b[0;32mexcept\u001b[0m \u001b[0mKeyboardInterrupt\u001b[0m\u001b[0;34m:\u001b[0m\u001b[0;34m\u001b[0m\u001b[0;34m\u001b[0m\u001b[0m\n\u001b[1;32m    894\u001b[0m                 \u001b[0;31m# re-raise KeyboardInterrupt, to truncate traceback\u001b[0m\u001b[0;34m\u001b[0m\u001b[0;34m\u001b[0m\u001b[0m\n\u001b[0;32m--> 895\u001b[0;31m                 \u001b[0;32mraise\u001b[0m \u001b[0mKeyboardInterrupt\u001b[0m\u001b[0;34m(\u001b[0m\u001b[0;34m\"Interrupted by user\"\u001b[0m\u001b[0;34m)\u001b[0m \u001b[0;32mfrom\u001b[0m \u001b[0;32mNone\u001b[0m\u001b[0;34m\u001b[0m\u001b[0;34m\u001b[0m\u001b[0m\n\u001b[0m\u001b[1;32m    896\u001b[0m             \u001b[0;32mexcept\u001b[0m \u001b[0mException\u001b[0m \u001b[0;32mas\u001b[0m \u001b[0me\u001b[0m\u001b[0;34m:\u001b[0m\u001b[0;34m\u001b[0m\u001b[0;34m\u001b[0m\u001b[0m\n\u001b[1;32m    897\u001b[0m                 \u001b[0mself\u001b[0m\u001b[0;34m.\u001b[0m\u001b[0mlog\u001b[0m\u001b[0;34m.\u001b[0m\u001b[0mwarning\u001b[0m\u001b[0;34m(\u001b[0m\u001b[0;34m\"Invalid Message:\"\u001b[0m\u001b[0;34m,\u001b[0m \u001b[0mexc_info\u001b[0m\u001b[0;34m=\u001b[0m\u001b[0;32mTrue\u001b[0m\u001b[0;34m)\u001b[0m\u001b[0;34m\u001b[0m\u001b[0;34m\u001b[0m\u001b[0m\n",
            "\u001b[0;31mKeyboardInterrupt\u001b[0m: Interrupted by user"
          ]
        }
      ]
    },
    {
      "cell_type": "markdown",
      "source": [
        "17. Write a Python function max_of_three that returns the largest of three numbers. Test this function with numbers 4, 7, and 2."
      ],
      "metadata": {
        "id": "fsrW_7Y-QBV3"
      }
    },
    {
      "cell_type": "code",
      "source": [
        "def max_of_three(a, b, c):\n",
        "    return max(a, b, c)\n",
        "print(max_of_three(4, 7, 2))\n"
      ],
      "metadata": {
        "id": "cX4qyhmzQDh1"
      },
      "execution_count": null,
      "outputs": []
    },
    {
      "cell_type": "markdown",
      "source": [
        "Question\n",
        "At a carnival, people are charged entry based on their age as follows:\n",
        "\n",
        "Children under 4 years old enter for free.\n",
        "\n",
        "Children aged 4 to 12 years are charged $10.\n",
        "\n",
        "Teenagers and adults from 13 to 64 years old are charged $20.\n",
        "\n",
        "Seniors aged 65 and above are charged $15."
      ],
      "metadata": {
        "id": "VvzgQLS9USzI"
      }
    },
    {
      "cell_type": "code",
      "source": [
        "# Taking age as input from the user\n",
        "age = int(input(\"Enter your age: \"))\n",
        "\n",
        "# Determining the entry fee based on age\n",
        "if age < 4:\n",
        "    print(\"Your entry is free!\")\n",
        "elif age <= 12:\n",
        "    print(\"Your entry fee is $10.\")\n",
        "elif age <= 64:\n",
        "    print(\"Your entry fee is $20.\")\n",
        "else:\n",
        "    print(\"Your entry fee is $15.\")\n"
      ],
      "metadata": {
        "colab": {
          "base_uri": "https://localhost:8080/"
        },
        "id": "DCgzOd3OUTmb",
        "outputId": "0e3e5536-345b-464b-d62f-8fb97c508d5d"
      },
      "execution_count": 1,
      "outputs": [
        {
          "output_type": "stream",
          "name": "stdout",
          "text": [
            "Enter your age: 34\n",
            "Your entry fee is $20.\n"
          ]
        }
      ]
    },
    {
      "cell_type": "code",
      "source": [
        "def generate_table(number, limit):\n",
        "    \"\"\"\n",
        "    Generates and prints the multiplication table for a given number up to a specified limit.\n",
        "\n",
        "    Args:\n",
        "    number (int): The base number for the multiplication table.\n",
        "    limit (int): The maximum multiple to which the table should go.\n",
        "\n",
        "    Returns:\n",
        "    None\n",
        "    \"\"\"\n",
        "    print(f\"Multiplication Table for {number}\")\n",
        "    for i in range(1, limit + 1):\n",
        "        print(f\"{number} x {i} = {number * i}\")\n",
        "    print(\"-\" * 20)  # Print a separator line after the table\n",
        "\n",
        "# Example usage:\n",
        "generate_table(5, 10)  # Generates the multiplication table for 5 up to 10 times.\n"
      ],
      "metadata": {
        "colab": {
          "base_uri": "https://localhost:8080/"
        },
        "id": "7GvTgHlyXUPR",
        "outputId": "48e66a0c-f727-43a2-d5fd-e363d9e3c74c"
      },
      "execution_count": 2,
      "outputs": [
        {
          "output_type": "stream",
          "name": "stdout",
          "text": [
            "Multiplication Table for 5\n",
            "5 x 1 = 5\n",
            "5 x 2 = 10\n",
            "5 x 3 = 15\n",
            "5 x 4 = 20\n",
            "5 x 5 = 25\n",
            "5 x 6 = 30\n",
            "5 x 7 = 35\n",
            "5 x 8 = 40\n",
            "5 x 9 = 45\n",
            "5 x 10 = 50\n",
            "--------------------\n"
          ]
        }
      ]
    },
    {
      "cell_type": "code",
      "source": [
        "a=[1,2,3,4,6,7]\n",
        "\n",
        "for i in range(len(a)):\n",
        "  print(a[i])"
      ],
      "metadata": {
        "colab": {
          "base_uri": "https://localhost:8080/"
        },
        "id": "5TJ2hdSgYDsq",
        "outputId": "95419fc7-1d86-48f8-829d-1de17065153b"
      },
      "execution_count": 6,
      "outputs": [
        {
          "output_type": "stream",
          "name": "stdout",
          "text": [
            "1\n",
            "2\n",
            "3\n",
            "4\n",
            "6\n",
            "7\n"
          ]
        }
      ]
    },
    {
      "cell_type": "code",
      "source": [
        "empyt=[]\n",
        "x=0\n",
        "\n",
        "for i in range(0,9):\n",
        "  empyt.append(x)\n",
        "  x+=1\n",
        "print(empyt)"
      ],
      "metadata": {
        "colab": {
          "base_uri": "https://localhost:8080/"
        },
        "id": "K9UCTwnDYSPC",
        "outputId": "d0e75b96-7ce1-4e37-ea09-1b0bebad9a76"
      },
      "execution_count": 7,
      "outputs": [
        {
          "output_type": "stream",
          "name": "stdout",
          "text": [
            "[0, 1, 2, 3, 4, 5, 6, 7, 8]\n"
          ]
        }
      ]
    },
    {
      "cell_type": "code",
      "source": [
        "for i in range(1, 5 + 1):\n",
        "        for j in range(i):\n",
        "            print('*', end='')  # Print stars, end='' keeps the cursor in the same line\n",
        "        print()  # After each inner loop, print a newline to move to the next row\n"
      ],
      "metadata": {
        "colab": {
          "base_uri": "https://localhost:8080/"
        },
        "id": "aMJZDHp_Y1bo",
        "outputId": "d0352332-0b27-4441-e892-40d2976c4af7"
      },
      "execution_count": 12,
      "outputs": [
        {
          "output_type": "stream",
          "name": "stdout",
          "text": [
            "*\n",
            "**\n",
            "***\n",
            "****\n",
            "*****\n"
          ]
        }
      ]
    },
    {
      "cell_type": "code",
      "source": [
        "x=1\n",
        "def foo():\n",
        "  x=11\n",
        "  y=12\n",
        "  print(f\"x is equal to {x}\")\n",
        "  print(f\"y is equal to {y}\")"
      ],
      "metadata": {
        "id": "Ow0f2viadwld"
      },
      "execution_count": 13,
      "outputs": []
    },
    {
      "cell_type": "code",
      "source": [
        "foo()"
      ],
      "metadata": {
        "colab": {
          "base_uri": "https://localhost:8080/"
        },
        "id": "jKCTSdOsd_Mo",
        "outputId": "0024b168-f57a-4c07-b267-23e5528c8d13"
      },
      "execution_count": 14,
      "outputs": [
        {
          "output_type": "stream",
          "name": "stdout",
          "text": [
            "x is equal to 11\n",
            "y is equal to 12\n"
          ]
        }
      ]
    },
    {
      "cell_type": "code",
      "source": [],
      "metadata": {
        "id": "z2OxQ0W3eAOS"
      },
      "execution_count": null,
      "outputs": []
    }
  ]
}