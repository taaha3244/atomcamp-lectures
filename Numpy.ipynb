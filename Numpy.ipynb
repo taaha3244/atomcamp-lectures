{
  "nbformat": 4,
  "nbformat_minor": 0,
  "metadata": {
    "colab": {
      "provenance": []
    },
    "kernelspec": {
      "name": "python3",
      "display_name": "Python 3"
    },
    "language_info": {
      "name": "python"
    }
  },
  "cells": [
    {
      "cell_type": "markdown",
      "source": [
        "What’s the difference between a Python list and a NumPy array?\n",
        "NumPy gives you an enormous range of fast and efficient ways of creating arrays and manipulating numerical data inside them. While a Python list can contain different data types within a single list, all of the elements in a NumPy array should be homogeneous. The mathematical operations that are meant to be performed on arrays would be extremely inefficient if the arrays weren’t homogeneous.\n",
        "\n",
        "Why use NumPy?\n",
        "\n",
        "NumPy arrays are faster and more compact than Python lists. An array consumes less memory and is convenient to use. NumPy uses much less memory to store data and it provides a mechanism of specifying the data types. This allows the code to be optimized even further."
      ],
      "metadata": {
        "id": "G9yWnvizNGZj"
      }
    },
    {
      "cell_type": "code",
      "execution_count": null,
      "metadata": {
        "id": "Du7dFyhE9PsK"
      },
      "outputs": [],
      "source": [
        "import numpy  as np\n",
        "import pandas as pd"
      ]
    },
    {
      "cell_type": "code",
      "source": [
        "iris_data=pd.read_csv('/content/Iris.csv')"
      ],
      "metadata": {
        "id": "biD581DS__Iz"
      },
      "execution_count": null,
      "outputs": []
    },
    {
      "cell_type": "markdown",
      "source": [
        "##Array Creation"
      ],
      "metadata": {
        "id": "sp7hBOfr9ZRZ"
      }
    },
    {
      "cell_type": "markdown",
      "source": [
        "1. array\n",
        "\n",
        "    Purpose: Converts a Python list or list of lists into a NumPy array."
      ],
      "metadata": {
        "id": "ZpWZS7GZ9u5b"
      }
    },
    {
      "cell_type": "code",
      "source": [
        "python_list=[1,3,3,4]\n",
        "a = np.array(python_list)\n"
      ],
      "metadata": {
        "id": "L2Jjhai89YIG"
      },
      "execution_count": null,
      "outputs": []
    },
    {
      "cell_type": "markdown",
      "source": [
        "Shape of the array"
      ],
      "metadata": {
        "id": "I1NjonN_yGRW"
      }
    },
    {
      "cell_type": "code",
      "source": [
        "a.shape"
      ],
      "metadata": {
        "colab": {
          "base_uri": "https://localhost:8080/"
        },
        "id": "Lg_qrsx_NzLm",
        "outputId": "4b84ca1d-9fdf-4c9a-8075-56c49983b19c"
      },
      "execution_count": null,
      "outputs": [
        {
          "output_type": "execute_result",
          "data": {
            "text/plain": [
              "(4,)"
            ]
          },
          "metadata": {},
          "execution_count": 15
        }
      ]
    },
    {
      "cell_type": "markdown",
      "source": [
        "Rank of the array"
      ],
      "metadata": {
        "id": "AC-lcCUNyIlL"
      }
    },
    {
      "cell_type": "code",
      "source": [
        "a.ndim"
      ],
      "metadata": {
        "colab": {
          "base_uri": "https://localhost:8080/"
        },
        "id": "CiG7bkwYN10G",
        "outputId": "861fc4f6-ef34-4281-b096-d6a016befd51"
      },
      "execution_count": null,
      "outputs": [
        {
          "output_type": "execute_result",
          "data": {
            "text/plain": [
              "1"
            ]
          },
          "metadata": {},
          "execution_count": 16
        }
      ]
    },
    {
      "cell_type": "markdown",
      "source": [
        "2. arange\n",
        "\n",
        "    Purpose: Returns evenly spaced values within a given interval, similar to Python's range."
      ],
      "metadata": {
        "id": "hcieMMvk-K-0"
      }
    },
    {
      "cell_type": "code",
      "source": [
        "b = np.arange(0, 10, 2)  # Start, Stop, Step\n",
        "b"
      ],
      "metadata": {
        "colab": {
          "base_uri": "https://localhost:8080/"
        },
        "id": "ctTbJHvf9_10",
        "outputId": "6503d1ca-1af1-49cc-902f-c0b12b9f13d1"
      },
      "execution_count": null,
      "outputs": [
        {
          "output_type": "execute_result",
          "data": {
            "text/plain": [
              "array([0, 2, 4, 6, 8])"
            ]
          },
          "metadata": {},
          "execution_count": 21
        }
      ]
    },
    {
      "cell_type": "markdown",
      "source": [
        "3. linspace\n",
        "\n",
        "    Purpose: Returns evenly spaced numbers over a specified interval."
      ],
      "metadata": {
        "id": "2FO19hW0-VrU"
      }
    },
    {
      "cell_type": "code",
      "source": [
        "c = np.linspace(0, 1, 10)  # Start, Stop, Number of points\n",
        "c\n"
      ],
      "metadata": {
        "colab": {
          "base_uri": "https://localhost:8080/"
        },
        "id": "1z7lRtsU-Q59",
        "outputId": "db91dbf2-5791-4d01-ebbd-cdaf69b004c1"
      },
      "execution_count": null,
      "outputs": [
        {
          "output_type": "execute_result",
          "data": {
            "text/plain": [
              "array([0.        , 0.11111111, 0.22222222, 0.33333333, 0.44444444,\n",
              "       0.55555556, 0.66666667, 0.77777778, 0.88888889, 1.        ])"
            ]
          },
          "metadata": {},
          "execution_count": 29
        }
      ]
    },
    {
      "cell_type": "markdown",
      "source": [
        "4. logspace\n",
        "\n",
        "    Purpose: Returns numbers spaced evenly on a log scale."
      ],
      "metadata": {
        "id": "k44UoWto-eUG"
      }
    },
    {
      "cell_type": "code",
      "source": [
        "d = np.logspace(1, 10, num=10, base=2)  # Start (2^1), Stop (2^10), Number of points, Base\n",
        "d"
      ],
      "metadata": {
        "colab": {
          "base_uri": "https://localhost:8080/"
        },
        "id": "1QYKeEBb-Z1k",
        "outputId": "d3712d03-19de-4f4d-d813-80003039e2b9"
      },
      "execution_count": null,
      "outputs": [
        {
          "output_type": "execute_result",
          "data": {
            "text/plain": [
              "array([   2.,    4.,    8.,   16.,   32.,   64.,  128.,  256.,  512.,\n",
              "       1024.])"
            ]
          },
          "metadata": {},
          "execution_count": 30
        }
      ]
    },
    {
      "cell_type": "markdown",
      "source": [
        "5. zeros\n",
        "\n",
        "    Purpose: Returns a new array of specified size, filled with zeros"
      ],
      "metadata": {
        "id": "ZkSbQZMD-vxf"
      }
    },
    {
      "cell_type": "code",
      "source": [
        "e = np.zeros((2, 3))  # Shape as a tuple\n",
        "e"
      ],
      "metadata": {
        "colab": {
          "base_uri": "https://localhost:8080/"
        },
        "id": "XohERgWI-oaB",
        "outputId": "b9fef677-11be-401d-9df3-0d56be1d63b0"
      },
      "execution_count": null,
      "outputs": [
        {
          "output_type": "execute_result",
          "data": {
            "text/plain": [
              "array([[0., 0., 0.],\n",
              "       [0., 0., 0.]])"
            ]
          },
          "metadata": {},
          "execution_count": 31
        }
      ]
    },
    {
      "cell_type": "markdown",
      "source": [
        "6. ones\n",
        "\n",
        "    Purpose: Returns a new array of specified size and type, filled with ones."
      ],
      "metadata": {
        "id": "6x1cqrEb-42h"
      }
    },
    {
      "cell_type": "code",
      "source": [
        "f = np.ones((3, 3))  # Shape as a tuple\n",
        "f"
      ],
      "metadata": {
        "colab": {
          "base_uri": "https://localhost:8080/"
        },
        "id": "LRbQ8YW--zij",
        "outputId": "5a34b9a4-2965-4d3b-b719-594a71ed2b7e"
      },
      "execution_count": null,
      "outputs": [
        {
          "output_type": "execute_result",
          "data": {
            "text/plain": [
              "array([[1., 1., 1.],\n",
              "       [1., 1., 1.],\n",
              "       [1., 1., 1.]])"
            ]
          },
          "metadata": {},
          "execution_count": 32
        }
      ]
    },
    {
      "cell_type": "markdown",
      "source": [
        "7. full\n",
        "\n",
        "    Purpose: Returns a new array of given shape and type, filled with a specified fill value."
      ],
      "metadata": {
        "id": "YjPobTjV_EYy"
      }
    },
    {
      "cell_type": "code",
      "source": [
        "g = np.full((2, 2), 8)  # Shape and fill value\n",
        "g"
      ],
      "metadata": {
        "colab": {
          "base_uri": "https://localhost:8080/"
        },
        "id": "HyqGmjwn--5E",
        "outputId": "e8df8b90-7625-41ae-9529-8655deb43d1b"
      },
      "execution_count": null,
      "outputs": [
        {
          "output_type": "execute_result",
          "data": {
            "text/plain": [
              "array([[8, 8],\n",
              "       [8, 8]])"
            ]
          },
          "metadata": {},
          "execution_count": 34
        }
      ]
    },
    {
      "cell_type": "markdown",
      "source": [
        "8. eye\n",
        "\n",
        "    Purpose: Creates an identity matrix (2D array with ones on the diagonal and zeros elsewhere)."
      ],
      "metadata": {
        "id": "TX09W1bW_NQl"
      }
    },
    {
      "cell_type": "code",
      "source": [
        "h = np.eye(4)  # Size of the NxN identity matrix\n",
        "h"
      ],
      "metadata": {
        "colab": {
          "base_uri": "https://localhost:8080/"
        },
        "id": "rAXlXe0O_IEo",
        "outputId": "286295e9-1394-4bb6-910f-9f04e1e935e7"
      },
      "execution_count": null,
      "outputs": [
        {
          "output_type": "execute_result",
          "data": {
            "text/plain": [
              "array([[1., 0., 0., 0.],\n",
              "       [0., 1., 0., 0.],\n",
              "       [0., 0., 1., 0.],\n",
              "       [0., 0., 0., 1.]])"
            ]
          },
          "metadata": {},
          "execution_count": 35
        }
      ]
    },
    {
      "cell_type": "markdown",
      "source": [
        "9. empty\n",
        "\n",
        "    Purpose: Returns a new array of given shape and type, without initializing entries (contents are random)."
      ],
      "metadata": {
        "id": "gCsx854s_Yl3"
      }
    },
    {
      "cell_type": "code",
      "source": [
        "i = np.empty((2, 2))\n",
        "i"
      ],
      "metadata": {
        "colab": {
          "base_uri": "https://localhost:8080/",
          "height": 158
        },
        "id": "zOopmjL1_RtO",
        "outputId": "25e1a510-ab1e-4f1e-cfa0-06fd0b121f00"
      },
      "execution_count": null,
      "outputs": [
        {
          "output_type": "error",
          "ename": "NameError",
          "evalue": "name 'np' is not defined",
          "traceback": [
            "\u001b[0;31m---------------------------------------------------------------------------\u001b[0m",
            "\u001b[0;31mNameError\u001b[0m                                 Traceback (most recent call last)",
            "\u001b[0;32m<ipython-input-1-d8f83320a5c6>\u001b[0m in \u001b[0;36m<cell line: 1>\u001b[0;34m()\u001b[0m\n\u001b[0;32m----> 1\u001b[0;31m \u001b[0mi\u001b[0m \u001b[0;34m=\u001b[0m \u001b[0mnp\u001b[0m\u001b[0;34m.\u001b[0m\u001b[0mempty\u001b[0m\u001b[0;34m(\u001b[0m\u001b[0;34m(\u001b[0m\u001b[0;36m2\u001b[0m\u001b[0;34m,\u001b[0m \u001b[0;36m2\u001b[0m\u001b[0;34m)\u001b[0m\u001b[0;34m)\u001b[0m\u001b[0;34m\u001b[0m\u001b[0;34m\u001b[0m\u001b[0m\n\u001b[0m\u001b[1;32m      2\u001b[0m \u001b[0mi\u001b[0m\u001b[0;34m\u001b[0m\u001b[0;34m\u001b[0m\u001b[0m\n",
            "\u001b[0;31mNameError\u001b[0m: name 'np' is not defined"
          ]
        }
      ]
    },
    {
      "cell_type": "markdown",
      "source": [
        "###Specifying data types"
      ],
      "metadata": {
        "id": "uGV_qVk3z0hg"
      }
    },
    {
      "cell_type": "code",
      "source": [
        "x = np.ones(2, dtype=np.int64)\n",
        "x.dtype"
      ],
      "metadata": {
        "colab": {
          "base_uri": "https://localhost:8080/"
        },
        "id": "YYaBDp_Hzzvh",
        "outputId": "f0babe98-5732-4ce2-cafb-165c1a37069c"
      },
      "execution_count": null,
      "outputs": [
        {
          "output_type": "execute_result",
          "data": {
            "text/plain": [
              "dtype('int64')"
            ]
          },
          "metadata": {},
          "execution_count": 19
        }
      ]
    },
    {
      "cell_type": "markdown",
      "source": [
        "#Array Manipulation"
      ],
      "metadata": {
        "id": "h4bWIFjlAKzU"
      }
    },
    {
      "cell_type": "markdown",
      "source": [
        "1. reshape\n",
        "\n",
        "    Purpose: Changes the shape of an array without changing its data"
      ],
      "metadata": {
        "id": "jf86FlM5AOBF"
      }
    },
    {
      "cell_type": "code",
      "source": [
        "# Convert a couple of columns into a numpy array\n",
        "sepal_data = iris_data[['SepalLengthCm', 'SepalWidthCm']].values\n",
        "print(sepal_data.dtype)\n",
        "print(sepal_data.shape)\n",
        "reshaped_sepal_data = sepal_data.reshape((300, 1))\n",
        "print(reshaped_sepal_data.shape)"
      ],
      "metadata": {
        "colab": {
          "base_uri": "https://localhost:8080/"
        },
        "id": "F-iilL9P_c_f",
        "outputId": "210241ad-4a46-47c5-a62d-1bc3c9f3551d"
      },
      "execution_count": null,
      "outputs": [
        {
          "output_type": "stream",
          "name": "stdout",
          "text": [
            "float64\n",
            "(150, 2)\n",
            "(300, 1)\n"
          ]
        }
      ]
    },
    {
      "cell_type": "markdown",
      "source": [
        "2. ravel\n",
        "\n",
        "    Purpose: Returns a contiguous flattened array."
      ],
      "metadata": {
        "id": "vlp3_2k-Az0L"
      }
    },
    {
      "cell_type": "code",
      "source": [
        "flattened_sepal_data = reshaped_sepal_data.ravel()\n",
        "print(flattened_sepal_data)\n",
        "print(flattened_sepal_data.shape)"
      ],
      "metadata": {
        "colab": {
          "base_uri": "https://localhost:8080/"
        },
        "id": "L8iKRKrnAaJs",
        "outputId": "250427f2-e778-4678-ab2f-e0fbfed6669e"
      },
      "execution_count": null,
      "outputs": [
        {
          "output_type": "stream",
          "name": "stdout",
          "text": [
            "[5.1 3.5 4.9 3.  4.7 3.2 4.6 3.1 5.  3.6 5.4 3.9 4.6 3.4 5.  3.4 4.4 2.9\n",
            " 4.9 3.1 5.4 3.7 4.8 3.4 4.8 3.  4.3 3.  5.8 4.  5.7 4.4 5.4 3.9 5.1 3.5\n",
            " 5.7 3.8 5.1 3.8 5.4 3.4 5.1 3.7 4.6 3.6 5.1 3.3 4.8 3.4 5.  3.  5.  3.4\n",
            " 5.2 3.5 5.2 3.4 4.7 3.2 4.8 3.1 5.4 3.4 5.2 4.1 5.5 4.2 4.9 3.1 5.  3.2\n",
            " 5.5 3.5 4.9 3.1 4.4 3.  5.1 3.4 5.  3.5 4.5 2.3 4.4 3.2 5.  3.5 5.1 3.8\n",
            " 4.8 3.  5.1 3.8 4.6 3.2 5.3 3.7 5.  3.3 7.  3.2 6.4 3.2 6.9 3.1 5.5 2.3\n",
            " 6.5 2.8 5.7 2.8 6.3 3.3 4.9 2.4 6.6 2.9 5.2 2.7 5.  2.  5.9 3.  6.  2.2\n",
            " 6.1 2.9 5.6 2.9 6.7 3.1 5.6 3.  5.8 2.7 6.2 2.2 5.6 2.5 5.9 3.2 6.1 2.8\n",
            " 6.3 2.5 6.1 2.8 6.4 2.9 6.6 3.  6.8 2.8 6.7 3.  6.  2.9 5.7 2.6 5.5 2.4\n",
            " 5.5 2.4 5.8 2.7 6.  2.7 5.4 3.  6.  3.4 6.7 3.1 6.3 2.3 5.6 3.  5.5 2.5\n",
            " 5.5 2.6 6.1 3.  5.8 2.6 5.  2.3 5.6 2.7 5.7 3.  5.7 2.9 6.2 2.9 5.1 2.5\n",
            " 5.7 2.8 6.3 3.3 5.8 2.7 7.1 3.  6.3 2.9 6.5 3.  7.6 3.  4.9 2.5 7.3 2.9\n",
            " 6.7 2.5 7.2 3.6 6.5 3.2 6.4 2.7 6.8 3.  5.7 2.5 5.8 2.8 6.4 3.2 6.5 3.\n",
            " 7.7 3.8 7.7 2.6 6.  2.2 6.9 3.2 5.6 2.8 7.7 2.8 6.3 2.7 6.7 3.3 7.2 3.2\n",
            " 6.2 2.8 6.1 3.  6.4 2.8 7.2 3.  7.4 2.8 7.9 3.8 6.4 2.8 6.3 2.8 6.1 2.6\n",
            " 7.7 3.  6.3 3.4 6.4 3.1 6.  3.  6.9 3.1 6.7 3.1 6.9 3.1 5.8 2.7 6.8 3.2\n",
            " 6.7 3.3 6.7 3.  6.3 2.5 6.5 3.  6.2 3.4 5.9 3. ]\n",
            "(300,)\n"
          ]
        }
      ]
    },
    {
      "cell_type": "markdown",
      "source": [
        "2. concatenate\n",
        "\n",
        "    Purpose: Joins a sequence of arrays along an existing axis."
      ],
      "metadata": {
        "id": "MJz_r6m5BGVd"
      }
    },
    {
      "cell_type": "code",
      "source": [
        "sepal_lengths = iris_data['SepalLengthCm'].values\n",
        "petal_lengths = iris_data['PetalLengthCm'].to_numpy()\n",
        "combined_lengths = np.concatenate([sepal_lengths[:, np.newaxis], petal_lengths[:, np.newaxis]], axis=1)\n",
        "combined_lengths"
      ],
      "metadata": {
        "id": "SQ3RHm-oA48A"
      },
      "execution_count": null,
      "outputs": []
    },
    {
      "cell_type": "markdown",
      "source": [
        "4. vstack\n",
        "\n",
        "    Purpose: Stacks arrays in sequence vertically (row wise)."
      ],
      "metadata": {
        "id": "lYWFfAjVBeTU"
      }
    },
    {
      "cell_type": "code",
      "source": [
        "vertical_stack = np.vstack([sepal_lengths, petal_lengths])\n",
        "vertical_stack"
      ],
      "metadata": {
        "colab": {
          "base_uri": "https://localhost:8080/"
        },
        "id": "1A2mORUrBWuv",
        "outputId": "fa3c7586-3cc1-4251-8a23-a2a927db3a0e"
      },
      "execution_count": null,
      "outputs": [
        {
          "output_type": "execute_result",
          "data": {
            "text/plain": [
              "array([[5.1, 4.9, 4.7, 4.6, 5. , 5.4, 4.6, 5. , 4.4, 4.9, 5.4, 4.8, 4.8,\n",
              "        4.3, 5.8, 5.7, 5.4, 5.1, 5.7, 5.1, 5.4, 5.1, 4.6, 5.1, 4.8, 5. ,\n",
              "        5. , 5.2, 5.2, 4.7, 4.8, 5.4, 5.2, 5.5, 4.9, 5. , 5.5, 4.9, 4.4,\n",
              "        5.1, 5. , 4.5, 4.4, 5. , 5.1, 4.8, 5.1, 4.6, 5.3, 5. , 7. , 6.4,\n",
              "        6.9, 5.5, 6.5, 5.7, 6.3, 4.9, 6.6, 5.2, 5. , 5.9, 6. , 6.1, 5.6,\n",
              "        6.7, 5.6, 5.8, 6.2, 5.6, 5.9, 6.1, 6.3, 6.1, 6.4, 6.6, 6.8, 6.7,\n",
              "        6. , 5.7, 5.5, 5.5, 5.8, 6. , 5.4, 6. , 6.7, 6.3, 5.6, 5.5, 5.5,\n",
              "        6.1, 5.8, 5. , 5.6, 5.7, 5.7, 6.2, 5.1, 5.7, 6.3, 5.8, 7.1, 6.3,\n",
              "        6.5, 7.6, 4.9, 7.3, 6.7, 7.2, 6.5, 6.4, 6.8, 5.7, 5.8, 6.4, 6.5,\n",
              "        7.7, 7.7, 6. , 6.9, 5.6, 7.7, 6.3, 6.7, 7.2, 6.2, 6.1, 6.4, 7.2,\n",
              "        7.4, 7.9, 6.4, 6.3, 6.1, 7.7, 6.3, 6.4, 6. , 6.9, 6.7, 6.9, 5.8,\n",
              "        6.8, 6.7, 6.7, 6.3, 6.5, 6.2, 5.9],\n",
              "       [1.4, 1.4, 1.3, 1.5, 1.4, 1.7, 1.4, 1.5, 1.4, 1.5, 1.5, 1.6, 1.4,\n",
              "        1.1, 1.2, 1.5, 1.3, 1.4, 1.7, 1.5, 1.7, 1.5, 1. , 1.7, 1.9, 1.6,\n",
              "        1.6, 1.5, 1.4, 1.6, 1.6, 1.5, 1.5, 1.4, 1.5, 1.2, 1.3, 1.5, 1.3,\n",
              "        1.5, 1.3, 1.3, 1.3, 1.6, 1.9, 1.4, 1.6, 1.4, 1.5, 1.4, 4.7, 4.5,\n",
              "        4.9, 4. , 4.6, 4.5, 4.7, 3.3, 4.6, 3.9, 3.5, 4.2, 4. , 4.7, 3.6,\n",
              "        4.4, 4.5, 4.1, 4.5, 3.9, 4.8, 4. , 4.9, 4.7, 4.3, 4.4, 4.8, 5. ,\n",
              "        4.5, 3.5, 3.8, 3.7, 3.9, 5.1, 4.5, 4.5, 4.7, 4.4, 4.1, 4. , 4.4,\n",
              "        4.6, 4. , 3.3, 4.2, 4.2, 4.2, 4.3, 3. , 4.1, 6. , 5.1, 5.9, 5.6,\n",
              "        5.8, 6.6, 4.5, 6.3, 5.8, 6.1, 5.1, 5.3, 5.5, 5. , 5.1, 5.3, 5.5,\n",
              "        6.7, 6.9, 5. , 5.7, 4.9, 6.7, 4.9, 5.7, 6. , 4.8, 4.9, 5.6, 5.8,\n",
              "        6.1, 6.4, 5.6, 5.1, 5.6, 6.1, 5.6, 5.5, 4.8, 5.4, 5.6, 5.1, 5.1,\n",
              "        5.9, 5.7, 5.2, 5. , 5.2, 5.4, 5.1]])"
            ]
          },
          "metadata": {},
          "execution_count": 22
        }
      ]
    },
    {
      "cell_type": "markdown",
      "source": [
        "5. hstack\n",
        "\n",
        "    Purpose: Stacks arrays in sequence horizontally (column wise)."
      ],
      "metadata": {
        "id": "TkTAegEKBoj1"
      }
    },
    {
      "cell_type": "code",
      "source": [
        "horizontal_stack = np.hstack([sepal_lengths[:, np.newaxis], petal_lengths[:, np.newaxis]])\n",
        "horizontal_stack"
      ],
      "metadata": {
        "id": "KBeviv6iBjEz"
      },
      "execution_count": null,
      "outputs": []
    },
    {
      "cell_type": "markdown",
      "source": [
        "6. split\n",
        "\n",
        "    Purpose: Splits an array into multiple sub-arrays."
      ],
      "metadata": {
        "id": "qGdjp1xYB17z"
      }
    },
    {
      "cell_type": "code",
      "source": [
        "split_arrays = np.split(combined_lengths, 10)\n",
        "split_arrays"
      ],
      "metadata": {
        "id": "7rwL_HikBuCS"
      },
      "execution_count": null,
      "outputs": []
    },
    {
      "cell_type": "markdown",
      "source": [
        "##Array Indexing Examples"
      ],
      "metadata": {
        "id": "GlkWkK6iDLEe"
      }
    },
    {
      "cell_type": "markdown",
      "source": [
        "1. Basic Indexing\n",
        "\n",
        "    Purpose: Accessing specific elements or slices of an array."
      ],
      "metadata": {
        "id": "PKj342umDM4P"
      }
    },
    {
      "cell_type": "code",
      "source": [
        "basic_indexing_example = iris_data[['SepalLengthCm', 'SepalWidthCm']].to_numpy()\n",
        "basic_indexing_example.shape"
      ],
      "metadata": {
        "colab": {
          "base_uri": "https://localhost:8080/"
        },
        "id": "XavpKR7DB6CM",
        "outputId": "efc0f7e8-36e7-439e-c7f5-7d911110bc6f"
      },
      "execution_count": null,
      "outputs": [
        {
          "output_type": "execute_result",
          "data": {
            "text/plain": [
              "(150, 2)"
            ]
          },
          "metadata": {},
          "execution_count": 54
        }
      ]
    },
    {
      "cell_type": "code",
      "source": [
        "basic_indexing_example[10:20,1]"
      ],
      "metadata": {
        "colab": {
          "base_uri": "https://localhost:8080/"
        },
        "id": "1d2SX8qD7KBq",
        "outputId": "8764c079-78e4-4869-e009-deee9726c401"
      },
      "execution_count": null,
      "outputs": [
        {
          "output_type": "execute_result",
          "data": {
            "text/plain": [
              "array([3.7, 3.4, 3. , 3. , 4. , 4.4, 3.9, 3.5, 3.8, 3.8])"
            ]
          },
          "metadata": {},
          "execution_count": 61
        }
      ]
    },
    {
      "cell_type": "markdown",
      "source": [
        "##Mathematical Functions"
      ],
      "metadata": {
        "id": "dqBJupfmDyo1"
      }
    },
    {
      "cell_type": "markdown",
      "source": [
        "1. Basic Arithmetic\n",
        "\n",
        "    Purpose: Perform element-wise arithmetic operations."
      ],
      "metadata": {
        "id": "uLx4dddJD2s-"
      }
    },
    {
      "cell_type": "code",
      "source": [
        "iris_array = iris_data.iloc[:, 1:5].to_numpy()\n",
        "iris_array.shape"
      ],
      "metadata": {
        "colab": {
          "base_uri": "https://localhost:8080/"
        },
        "id": "A4O5c3bgFLpb",
        "outputId": "6b8020ee-2bba-4823-bd75-754f7d27a0cf"
      },
      "execution_count": null,
      "outputs": [
        {
          "output_type": "execute_result",
          "data": {
            "text/plain": [
              "(150, 4)"
            ]
          },
          "metadata": {},
          "execution_count": 64
        }
      ]
    },
    {
      "cell_type": "code",
      "source": [
        "basic_indexing_array = iris_array[:5, :2]\n",
        "basic_indexing_array"
      ],
      "metadata": {
        "colab": {
          "base_uri": "https://localhost:8080/"
        },
        "id": "gjSEb9fTDdFL",
        "outputId": "f8948202-5809-4ae3-fa62-52256ff1a51d"
      },
      "execution_count": null,
      "outputs": [
        {
          "output_type": "execute_result",
          "data": {
            "text/plain": [
              "array([[5.1, 3.5],\n",
              "       [4.9, 3. ],\n",
              "       [4.7, 3.2],\n",
              "       [4.6, 3.1],\n",
              "       [5. , 3.6]])"
            ]
          },
          "metadata": {},
          "execution_count": 63
        }
      ]
    },
    {
      "cell_type": "code",
      "source": [
        "boolean_indexing_array = iris_array[:, :] > 4.0\n",
        "boolean_indexing_array"
      ],
      "metadata": {
        "id": "0laYt2D-FQPS"
      },
      "execution_count": null,
      "outputs": []
    },
    {
      "cell_type": "code",
      "source": [
        "fancy_indexing_array = iris_array[[0, 49, 99], :]\n",
        "fancy_indexing_array"
      ],
      "metadata": {
        "colab": {
          "base_uri": "https://localhost:8080/"
        },
        "id": "rG0MZw8yFXbQ",
        "outputId": "69161cff-f05b-4ff2-c6fe-644d2dbfe166"
      },
      "execution_count": null,
      "outputs": [
        {
          "output_type": "execute_result",
          "data": {
            "text/plain": [
              "array([[5.1, 3.5, 1.4, 0.2],\n",
              "       [5. , 3.3, 1.4, 0.2],\n",
              "       [5.7, 2.8, 4.1, 1.3]])"
            ]
          },
          "metadata": {},
          "execution_count": 71
        }
      ]
    },
    {
      "cell_type": "markdown",
      "source": [
        "##Mathematical Functions"
      ],
      "metadata": {
        "id": "zE0qHir5Fj-W"
      }
    },
    {
      "cell_type": "markdown",
      "source": [
        "1. Mean Calculation\n",
        "\n",
        "    Purpose: Compute the average of an array"
      ],
      "metadata": {
        "id": "BfplE4zCFnNh"
      }
    },
    {
      "cell_type": "code",
      "source": [
        "mean_sepal_width = np.mean(iris_array[:, 1])\n",
        "mean_sepal_width"
      ],
      "metadata": {
        "colab": {
          "base_uri": "https://localhost:8080/"
        },
        "id": "StSskhMMFhMB",
        "outputId": "ab6246f3-fb45-4aa8-b635-c30265562f70"
      },
      "execution_count": null,
      "outputs": [
        {
          "output_type": "execute_result",
          "data": {
            "text/plain": [
              "3.0540000000000003"
            ]
          },
          "metadata": {},
          "execution_count": 72
        }
      ]
    },
    {
      "cell_type": "code",
      "source": [
        "std_petal_length = np.std(iris_array[:, 2])\n",
        "std_petal_length"
      ],
      "metadata": {
        "colab": {
          "base_uri": "https://localhost:8080/"
        },
        "id": "q687-Mn6FuPK",
        "outputId": "cdcd4824-7610-4d05-cadc-bf3f2e81afe4"
      },
      "execution_count": null,
      "outputs": [
        {
          "output_type": "execute_result",
          "data": {
            "text/plain": [
              "1.7585291834055212"
            ]
          },
          "metadata": {},
          "execution_count": 73
        }
      ]
    },
    {
      "cell_type": "markdown",
      "source": [
        "2. Matrix Multiplication (Dot Product)\n",
        "\n",
        "    Purpose: Compute the dot product of two arrays."
      ],
      "metadata": {
        "id": "4opHwKeUF5AN"
      }
    },
    {
      "cell_type": "code",
      "source": [
        "dot_product_matrix = np.dot(iris_array.T, iris_array)\n",
        "dot_product_matrix"
      ],
      "metadata": {
        "colab": {
          "base_uri": "https://localhost:8080/"
        },
        "id": "HoZ2-F9OFzik",
        "outputId": "60efe2a5-e36b-4e8f-c77f-4253c7df6139"
      },
      "execution_count": null,
      "outputs": [
        {
          "output_type": "execute_result",
          "data": {
            "text/plain": [
              "array([[5223.85, 2670.98, 3484.25, 1127.65],\n",
              "       [2670.98, 1427.05, 1673.91,  531.53],\n",
              "       [3484.25, 1673.91, 2583.  ,  868.97],\n",
              "       [1127.65,  531.53,  868.97,  302.3 ]])"
            ]
          },
          "metadata": {},
          "execution_count": 34
        }
      ]
    },
    {
      "cell_type": "markdown",
      "source": [
        "argmin\n",
        "\n",
        "Purpose: Find the index of the minimum value in an array."
      ],
      "metadata": {
        "id": "ulj-8l9mG2Ul"
      }
    },
    {
      "cell_type": "code",
      "source": [
        "min_index = np.argmin(iris_array[:, 2])  # Find the index of the shortest petal length\n",
        "min_index"
      ],
      "metadata": {
        "colab": {
          "base_uri": "https://localhost:8080/"
        },
        "id": "Z8qzfrBqF-Kq",
        "outputId": "3fb28e5f-90b5-49e6-ca05-fcd2132a0de1"
      },
      "execution_count": null,
      "outputs": [
        {
          "output_type": "execute_result",
          "data": {
            "text/plain": [
              "22"
            ]
          },
          "metadata": {},
          "execution_count": 77
        }
      ]
    },
    {
      "cell_type": "code",
      "source": [
        "max_index = np.argmax(iris_array[:, 2])  # Find the index of the longest petal length\n",
        "max_index"
      ],
      "metadata": {
        "colab": {
          "base_uri": "https://localhost:8080/"
        },
        "id": "xE1c2giJG6qL",
        "outputId": "b7b3ff57-2e7e-4f0e-ffad-3e98512b4985"
      },
      "execution_count": null,
      "outputs": [
        {
          "output_type": "execute_result",
          "data": {
            "text/plain": [
              "118"
            ]
          },
          "metadata": {},
          "execution_count": 78
        }
      ]
    },
    {
      "cell_type": "code",
      "source": [
        "# Assuming another matrix of compatible dimensions\n",
        "random_matrix = np.random.rand(4, 3)  # Creating a 4x3 random matrix\n",
        "product = np.matmul(iris_array, random_matrix)  # Matrix multiplication\n",
        "product"
      ],
      "metadata": {
        "id": "z4jpJpt-G-bP"
      },
      "execution_count": null,
      "outputs": []
    },
    {
      "cell_type": "code",
      "source": [
        "random_numbers = np.random.rand(5)\n",
        "# random_numbers = np.random.rand(5,3,2)   # Generate 5 random numbers\n",
        "random_numbers"
      ],
      "metadata": {
        "colab": {
          "base_uri": "https://localhost:8080/"
        },
        "id": "RqTkKSLjHLRn",
        "outputId": "6803ef10-0a11-4e07-e846-47589900b8bf"
      },
      "execution_count": null,
      "outputs": [
        {
          "output_type": "execute_result",
          "data": {
            "text/plain": [
              "array([0.02223664, 0.06210252, 0.27388704, 0.51743311, 0.13777968])"
            ]
          },
          "metadata": {},
          "execution_count": 81
        }
      ]
    },
    {
      "cell_type": "code",
      "source": [
        "random_normal = np.random.randn(5)  # Generate 5 random numbers from normal distribution\n",
        "random_normal"
      ],
      "metadata": {
        "colab": {
          "base_uri": "https://localhost:8080/"
        },
        "id": "bNYAiVydHa5G",
        "outputId": "fefbe270-f500-4faa-cad0-b8b20ecb634b"
      },
      "execution_count": null,
      "outputs": [
        {
          "output_type": "execute_result",
          "data": {
            "text/plain": [
              "array([ 0.02365395, -0.25000691, -0.30912751, -1.70770377,  0.46727357])"
            ]
          },
          "metadata": {},
          "execution_count": 41
        }
      ]
    },
    {
      "cell_type": "code",
      "source": [
        "random_integers = np.random.randint(1, 10, 5)  # Generate 5 random integers between 1 and 9\n",
        "random_integers"
      ],
      "metadata": {
        "colab": {
          "base_uri": "https://localhost:8080/"
        },
        "id": "cLvDV4eXHeV7",
        "outputId": "cd262955-e98c-4b4a-c235-018f94a705aa"
      },
      "execution_count": null,
      "outputs": [
        {
          "output_type": "execute_result",
          "data": {
            "text/plain": [
              "array([8, 1, 4, 2, 3])"
            ]
          },
          "metadata": {},
          "execution_count": 42
        }
      ]
    },
    {
      "cell_type": "code",
      "source": [],
      "metadata": {
        "id": "Nxlw68DrHjVy"
      },
      "execution_count": null,
      "outputs": []
    }
  ]
}